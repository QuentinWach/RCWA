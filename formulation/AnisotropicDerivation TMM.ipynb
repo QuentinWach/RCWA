{
 "cells": [
  {
   "cell_type": "code",
   "execution_count": 14,
   "metadata": {},
   "outputs": [],
   "source": [
    "from sympy import *\n",
    "import numpy as np"
   ]
  },
  {
   "cell_type": "code",
   "execution_count": 15,
   "metadata": {},
   "outputs": [
    {
     "data": {
      "text/latex": [
       "$\\displaystyle \\left[\\begin{matrix}- \\frac{i \\epsilon_{r31} k_{x}}{\\epsilon_{r33}} - \\frac{i \\mu_{r23} k_{y}}{\\mu_{r33}} & \\frac{i k_{x} \\left(- \\epsilon_{r32} \\mu_{r33} + \\epsilon_{r33} \\mu_{r23}\\right)}{\\epsilon_{r33} \\mu_{r33}} & \\mu_{r21} - \\frac{\\mu_{r23} \\mu_{r31}}{\\mu_{r33}} + \\frac{k_{x} k_{y}}{\\epsilon_{r33}} & \\mu_{r22} - \\frac{\\mu_{r23} \\mu_{r32}}{\\mu_{r33}} - \\frac{k_{x}^{2}}{\\epsilon_{r33}}\\\\\\frac{i k_{y} \\left(- \\epsilon_{r31} \\mu_{r33} + \\epsilon_{r33} \\mu_{r13}\\right)}{\\epsilon_{r33} \\mu_{r33}} & - \\frac{i \\epsilon_{r32} k_{y}}{\\epsilon_{r33}} - \\frac{i \\mu_{r13} k_{x}}{\\mu_{r33}} & - \\mu_{r11} + \\frac{\\mu_{r13} \\mu_{r31}}{\\mu_{r33}} + \\frac{k_{y}^{2}}{\\epsilon_{r33}} & - \\mu_{r12} + \\frac{\\mu_{r13} \\mu_{r32}}{\\mu_{r33}} - \\frac{k_{x} k_{y}}{\\epsilon_{r33}}\\\\\\epsilon_{r21} - \\frac{\\epsilon_{r23} \\epsilon_{r31}}{\\epsilon_{r33}} + \\frac{k_{x} k_{y}}{\\mu_{r33}} & \\epsilon_{r22} - \\frac{\\epsilon_{r23} \\epsilon_{r32}}{\\epsilon_{r33}} - \\frac{k_{x}^{2}}{\\mu_{r33}} & - \\frac{i \\epsilon_{r23} k_{y}}{\\epsilon_{r33}} - \\frac{i \\mu_{r31} k_{x}}{\\mu_{r33}} & \\frac{i k_{x} \\left(\\epsilon_{r23} \\mu_{r33} - \\epsilon_{r33} \\mu_{r32}\\right)}{\\epsilon_{r33} \\mu_{r33}}\\\\- \\epsilon_{r11} + \\frac{\\epsilon_{r13} \\epsilon_{r31}}{\\epsilon_{r33}} + \\frac{k_{y}^{2}}{\\mu_{r33}} & - \\epsilon_{r12} + \\frac{\\epsilon_{r13} \\epsilon_{r32}}{\\epsilon_{r33}} - \\frac{k_{x} k_{y}}{\\mu_{r33}} & \\frac{i k_{y} \\left(\\epsilon_{r13} \\mu_{r33} - \\epsilon_{r33} \\mu_{r31}\\right)}{\\epsilon_{r33} \\mu_{r33}} & - \\frac{i \\epsilon_{r13} k_{x}}{\\epsilon_{r33}} - \\frac{i \\mu_{r32} k_{y}}{\\mu_{r33}}\\end{matrix}\\right]$"
      ],
      "text/plain": [
       "Matrix([\n",
       "[                   -I*\\epsilon_r31*k_x/\\epsilon_r33 - I*\\mu_r23*k_y/\\mu_r33, I*k_x*(-\\epsilon_r32*\\mu_r33 + \\epsilon_r33*\\mu_r23)/(\\epsilon_r33*\\mu_r33),                   \\mu_r21 - \\mu_r23*\\mu_r31/\\mu_r33 + k_x*k_y/\\epsilon_r33,                    \\mu_r22 - \\mu_r23*\\mu_r32/\\mu_r33 - k_x**2/\\epsilon_r33],\n",
       "[I*k_y*(-\\epsilon_r31*\\mu_r33 + \\epsilon_r33*\\mu_r13)/(\\epsilon_r33*\\mu_r33),                    -I*\\epsilon_r32*k_y/\\epsilon_r33 - I*\\mu_r13*k_x/\\mu_r33,                   -\\mu_r11 + \\mu_r13*\\mu_r31/\\mu_r33 + k_y**2/\\epsilon_r33,                  -\\mu_r12 + \\mu_r13*\\mu_r32/\\mu_r33 - k_x*k_y/\\epsilon_r33],\n",
       "[    \\epsilon_r21 - \\epsilon_r23*\\epsilon_r31/\\epsilon_r33 + k_x*k_y/\\mu_r33,      \\epsilon_r22 - \\epsilon_r23*\\epsilon_r32/\\epsilon_r33 - k_x**2/\\mu_r33,                   -I*\\epsilon_r23*k_y/\\epsilon_r33 - I*\\mu_r31*k_x/\\mu_r33, I*k_x*(\\epsilon_r23*\\mu_r33 - \\epsilon_r33*\\mu_r32)/(\\epsilon_r33*\\mu_r33)],\n",
       "[    -\\epsilon_r11 + \\epsilon_r13*\\epsilon_r31/\\epsilon_r33 + k_y**2/\\mu_r33,    -\\epsilon_r12 + \\epsilon_r13*\\epsilon_r32/\\epsilon_r33 - k_x*k_y/\\mu_r33, I*k_y*(\\epsilon_r13*\\mu_r33 - \\epsilon_r33*\\mu_r31)/(\\epsilon_r33*\\mu_r33),                   -I*\\epsilon_r13*k_x/\\epsilon_r33 - I*\\mu_r32*k_y/\\mu_r33]])"
      ]
     },
     "execution_count": 15,
     "metadata": {},
     "output_type": "execute_result"
    }
   ],
   "source": [
    "Ex, Ey, Ez = symbols('E_x, E_y, E_z')\n",
    "Hx, Hy, Hz = symbols('H_x, H_y, H_z')\n",
    "kx, ky, kz = symbols('k_x, k_y, k_z')\n",
    "E = Matrix([Ex, Ey, Ez])\n",
    "H = Matrix([Hx, Hy, Hz])\n",
    "ur = Matrix(np.reshape(symbols('\\mu_r1:4(1:4)'), [3, 3]))\n",
    "er = Matrix(np.reshape(symbols('\\epsilon_r1:4(1:4)'), [3, 3]))\n",
    "Hz = ur[2,2]**-1*(I*Matrix([[-ky, kx]])*E[:2, :] - ur[2, :2] * H[:2, :])\n",
    "Ez = er[2,2]**-1*(I*Matrix([[-ky, kx]])*H[:2, :] - er[2, :2] * E[:2, :])\n",
    "dEdZ = Matrix([[0,1],[-1,0]])*(\n",
    "    -I*Matrix([ky, -kx])*Ez+ur[:2, :2]*H[:2, :] + ur[:2, 2]*Hz\n",
    ")\n",
    "dHdZ = Matrix([[0,1],[-1,0]])*(\n",
    "    -I*Matrix([ky, -kx])*Hz+er[:2, :2]*E[:2, :] + er[:2, 2]*Ez\n",
    ")\n",
    "M = linear_eq_to_matrix([dEdZ[0], dEdZ[1], dHdZ[0], dHdZ[1]], [Ex, Ey, Hx, Hy])[0]\n",
    "M = simplify(expand(M))\n",
    "M"
   ]
  },
  {
   "cell_type": "code",
   "execution_count": 16,
   "metadata": {},
   "outputs": [
    {
     "data": {
      "text/latex": [
       "$\\displaystyle \\left[\\begin{matrix}- \\frac{i \\epsilon_{r31} k_{x}}{\\epsilon_{r33}} & - \\frac{i \\epsilon_{r32} k_{x}}{\\epsilon_{r33}} & \\frac{k_{x} k_{y}}{\\epsilon_{r33}} & \\mu_{r} - \\frac{k_{x}^{2}}{\\epsilon_{r33}}\\\\- \\frac{i \\epsilon_{r31} k_{y}}{\\epsilon_{r33}} & - \\frac{i \\epsilon_{r32} k_{y}}{\\epsilon_{r33}} & - \\mu_{r} + \\frac{k_{y}^{2}}{\\epsilon_{r33}} & - \\frac{k_{x} k_{y}}{\\epsilon_{r33}}\\\\\\epsilon_{r21} - \\frac{\\epsilon_{r23} \\epsilon_{r31}}{\\epsilon_{r33}} + k_{x} k_{y} \\mu_{r}^{-1} & \\epsilon_{r22} - \\frac{\\epsilon_{r23} \\epsilon_{r32}}{\\epsilon_{r33}} - k_{x}^{2} \\mu_{r}^{-1} & - \\frac{i \\epsilon_{r23} k_{y}}{\\epsilon_{r33}} & \\frac{i \\epsilon_{r23} k_{x}}{\\epsilon_{r33}}\\\\- \\epsilon_{r11} + \\frac{\\epsilon_{r13} \\epsilon_{r31}}{\\epsilon_{r33}} + k_{y}^{2} \\mu_{r}^{-1} & - \\epsilon_{r12} + \\frac{\\epsilon_{r13} \\epsilon_{r32}}{\\epsilon_{r33}} - k_{x} k_{y} \\mu_{r}^{-1} & \\frac{i \\epsilon_{r13} k_{y}}{\\epsilon_{r33}} & - \\frac{i \\epsilon_{r13} k_{x}}{\\epsilon_{r33}}\\end{matrix}\\right]$"
      ],
      "text/plain": [
       "Matrix([\n",
       "[                                           -I*\\epsilon_r31*k_x/\\epsilon_r33,                                             -I*\\epsilon_r32*k_x/\\epsilon_r33,             k_x*k_y/\\epsilon_r33,      \\mu_r - k_x**2/\\epsilon_r33],\n",
       "[                                           -I*\\epsilon_r31*k_y/\\epsilon_r33,                                             -I*\\epsilon_r32*k_y/\\epsilon_r33,     -\\mu_r + k_y**2/\\epsilon_r33,            -k_x*k_y/\\epsilon_r33],\n",
       "[\\epsilon_r21 - \\epsilon_r23*\\epsilon_r31/\\epsilon_r33 + k_x*k_y*\\mu_r**(-1),   \\epsilon_r22 - \\epsilon_r23*\\epsilon_r32/\\epsilon_r33 - k_x**2*\\mu_r**(-1), -I*\\epsilon_r23*k_y/\\epsilon_r33,  I*\\epsilon_r23*k_x/\\epsilon_r33],\n",
       "[-\\epsilon_r11 + \\epsilon_r13*\\epsilon_r31/\\epsilon_r33 + k_y**2*\\mu_r**(-1), -\\epsilon_r12 + \\epsilon_r13*\\epsilon_r32/\\epsilon_r33 - k_x*k_y*\\mu_r**(-1),  I*\\epsilon_r13*k_y/\\epsilon_r33, -I*\\epsilon_r13*k_x/\\epsilon_r33]])"
      ]
     },
     "execution_count": 16,
     "metadata": {},
     "output_type": "execute_result"
    }
   ],
   "source": [
    "ur_single, er_single = symbols('\\mu_r \\epsilon_r', commutative=False)\n",
    "for u in ur:\n",
    "    M = M.subs(u, ur_single if u.name[-2]==u.name[-1] else '0')\n",
    "# for e in er:\n",
    "#     M = M.subs(e, er_single if e.name[-2]==e.name[-1] else '0', commutative=False)\n",
    "simplify(expand(M))"
   ]
  },
  {
   "cell_type": "code",
   "execution_count": 17,
   "metadata": {},
   "outputs": [
    {
     "data": {
      "text/latex": [
       "$\\displaystyle \\left[\\begin{matrix}- \\frac{i \\epsilon_{r31} k_{x}}{\\epsilon_{r33}} & - \\frac{i \\epsilon_{r32} k_{x}}{\\epsilon_{r33}} & \\frac{k_{x} k_{y}}{\\epsilon_{r33}} & \\frac{\\epsilon_{r33} - k_{x}^{2}}{\\epsilon_{r33}}\\\\- \\frac{i \\epsilon_{r31} k_{y}}{\\epsilon_{r33}} & - \\frac{i \\epsilon_{r32} k_{y}}{\\epsilon_{r33}} & \\frac{- \\epsilon_{r33} + k_{y}^{2}}{\\epsilon_{r33}} & - \\frac{k_{x} k_{y}}{\\epsilon_{r33}}\\\\\\epsilon_{r21} - \\frac{\\epsilon_{r23} \\epsilon_{r31}}{\\epsilon_{r33}} + k_{x} k_{y} & \\epsilon_{r22} - \\frac{\\epsilon_{r23} \\epsilon_{r32}}{\\epsilon_{r33}} - k_{x}^{2} & - \\frac{i \\epsilon_{r23} k_{y}}{\\epsilon_{r33}} & \\frac{i \\epsilon_{r23} k_{x}}{\\epsilon_{r33}}\\\\- \\epsilon_{r11} + \\frac{\\epsilon_{r13} \\epsilon_{r31}}{\\epsilon_{r33}} + k_{y}^{2} & - \\epsilon_{r12} + \\frac{\\epsilon_{r13} \\epsilon_{r32}}{\\epsilon_{r33}} - k_{x} k_{y} & \\frac{i \\epsilon_{r13} k_{y}}{\\epsilon_{r33}} & - \\frac{i \\epsilon_{r13} k_{x}}{\\epsilon_{r33}}\\end{matrix}\\right]$"
      ],
      "text/plain": [
       "Matrix([\n",
       "[                               -I*\\epsilon_r31*k_x/\\epsilon_r33,                                 -I*\\epsilon_r32*k_x/\\epsilon_r33,                  k_x*k_y/\\epsilon_r33, (\\epsilon_r33 - k_x**2)/\\epsilon_r33],\n",
       "[                               -I*\\epsilon_r31*k_y/\\epsilon_r33,                                 -I*\\epsilon_r32*k_y/\\epsilon_r33, (-\\epsilon_r33 + k_y**2)/\\epsilon_r33,                -k_x*k_y/\\epsilon_r33],\n",
       "[\\epsilon_r21 - \\epsilon_r23*\\epsilon_r31/\\epsilon_r33 + k_x*k_y,   \\epsilon_r22 - \\epsilon_r23*\\epsilon_r32/\\epsilon_r33 - k_x**2,      -I*\\epsilon_r23*k_y/\\epsilon_r33,      I*\\epsilon_r23*k_x/\\epsilon_r33],\n",
       "[-\\epsilon_r11 + \\epsilon_r13*\\epsilon_r31/\\epsilon_r33 + k_y**2, -\\epsilon_r12 + \\epsilon_r13*\\epsilon_r32/\\epsilon_r33 - k_x*k_y,       I*\\epsilon_r13*k_y/\\epsilon_r33,     -I*\\epsilon_r13*k_x/\\epsilon_r33]])"
      ]
     },
     "execution_count": 17,
     "metadata": {},
     "output_type": "execute_result"
    }
   ],
   "source": [
    "M = M.subs(ur_single, '1')\n",
    "simplify(expand(M))"
   ]
  },
  {
   "cell_type": "code",
   "execution_count": 20,
   "metadata": {},
   "outputs": [
    {
     "data": {
      "text/plain": [
       "<function sympy.polys.polytools.decompose(f, *gens, **args)>"
      ]
     },
     "execution_count": 20,
     "metadata": {},
     "output_type": "execute_result"
    }
   ],
   "source": []
  }
 ],
 "metadata": {
  "kernelspec": {
   "display_name": "Python 3",
   "language": "python",
   "name": "python3"
  },
  "language_info": {
   "codemirror_mode": {
    "name": "ipython",
    "version": 3
   },
   "file_extension": ".py",
   "mimetype": "text/x-python",
   "name": "python",
   "nbconvert_exporter": "python",
   "pygments_lexer": "ipython3",
   "version": "3.9.10"
  }
 },
 "nbformat": 4,
 "nbformat_minor": 2
}
