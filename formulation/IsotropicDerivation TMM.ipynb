{
 "cells": [
  {
   "cell_type": "code",
   "execution_count": 5,
   "metadata": {},
   "outputs": [],
   "source": [
    "from sympy import *\n",
    "import numpy as np"
   ]
  },
  {
   "cell_type": "code",
   "execution_count": 12,
   "metadata": {},
   "outputs": [
    {
     "data": {
      "text/latex": [
       "$\\displaystyle \\left[\\begin{matrix}- E_{x} k_{y} + E_{y} k_{x}\\end{matrix}\\right]$"
      ],
      "text/plain": [
       "Matrix([[-E_x*k_y + E_y*k_x]])"
      ]
     },
     "execution_count": 12,
     "metadata": {},
     "output_type": "execute_result"
    }
   ],
   "source": [
    "Matrix([[-ky, kx]])*E[:2, :]"
   ]
  },
  {
   "cell_type": "code",
   "execution_count": 15,
   "metadata": {},
   "outputs": [
    {
     "data": {
      "text/latex": [
       "$\\displaystyle \\left[\\begin{matrix}0 & 0 & \\frac{1.0 k_{x} k_{y}}{\\epsilon_{r}} & \\mu_{r} - \\frac{1.0 k_{x}^{2}}{\\epsilon_{r}}\\\\0 & 0 & - \\mu_{r} + \\frac{1.0 k_{y}^{2}}{\\epsilon_{r}} & - \\frac{1.0 k_{x} k_{y}}{\\epsilon_{r}}\\\\\\frac{1.0 k_{x} k_{y}}{\\mu_{r}} & \\epsilon_{r} - \\frac{1.0 k_{x}^{2}}{\\mu_{r}} & 0 & 0\\\\- \\epsilon_{r} + \\frac{1.0 k_{y}^{2}}{\\mu_{r}} & - \\frac{1.0 k_{x} k_{y}}{\\mu_{r}} & 0 & 0\\end{matrix}\\right]$"
      ],
      "text/plain": [
       "Matrix([\n",
       "[                             0,                             0,         1.0*k_x*k_y/\\epsilon_r, \\mu_r - 1.0*k_x**2/\\epsilon_r],\n",
       "[                             0,                             0, -\\mu_r + 1.0*k_y**2/\\epsilon_r,       -1.0*k_x*k_y/\\epsilon_r],\n",
       "[             1.0*k_x*k_y/\\mu_r, \\epsilon_r - 1.0*k_x**2/\\mu_r,                              0,                             0],\n",
       "[-\\epsilon_r + 1.0*k_y**2/\\mu_r,            -1.0*k_x*k_y/\\mu_r,                              0,                             0]])"
      ]
     },
     "execution_count": 15,
     "metadata": {},
     "output_type": "execute_result"
    }
   ],
   "source": [
    "Ex, Ey, Ez = symbols('E_x, E_y, E_z')\n",
    "Hx, Hy, Hz = symbols('H_x, H_y, H_z')\n",
    "kx, ky, kz = symbols('k_x, k_y, k_z')\n",
    "E = Matrix([Ex, Ey, Ez])\n",
    "H = Matrix([Hx, Hy, Hz])\n",
    "ur, er = symbols('\\mu_r \\epsilon_r')\n",
    "Hz = ur**-1*(Matrix([[-1j*ky, 1j*kx]])*E[:2, :])\n",
    "Ez = er**-1*(Matrix([[-1j*ky, 1j*kx]])*H[:2, :])\n",
    "dEdZ = Matrix([[0,1],[-1,0]])*(\n",
    "    -Matrix([1j*ky, -1j*kx])*Ez+ur*H[:2, :]\n",
    ")\n",
    "dHdZ = Matrix([[0,1],[-1,0]])*(\n",
    "    -Matrix([1j*ky, -1j*kx])*Hz+er*E[:2, :]\n",
    ")\n",
    "M = linear_eq_to_matrix([dEdZ[0], dEdZ[1], dHdZ[0], dHdZ[1]], [Ex, Ey, Hx, Hy])[0]\n",
    "M = simplify(expand(M))\n",
    "M"
   ]
  },
  {
   "cell_type": "code",
   "execution_count": 44,
   "metadata": {},
   "outputs": [],
   "source": [
    "eigen_values = []\n",
    "eigen_vectors = []\n",
    "\n",
    "for eigenvalue, multiplicity, basis in M.eigenvects():\n",
    "    eigen_values.append(eigenvalue)\n",
    "    for b in basis:\n",
    "        eigen_vectors.append(simplify(expand(b)).T)"
   ]
  },
  {
   "cell_type": "code",
   "execution_count": 45,
   "metadata": {},
   "outputs": [
    {
     "data": {
      "text/latex": [
       "$\\displaystyle \\left[\\begin{matrix}- \\left(- \\epsilon_{r} \\mu_{r} + k_{x}^{2} + k_{y}^{2}\\right)^{0.5}\\\\\\left(- \\epsilon_{r} \\mu_{r} + k_{x}^{2} + k_{y}^{2}\\right)^{0.5}\\end{matrix}\\right]$"
      ],
      "text/plain": [
       "Matrix([\n",
       "[-(-\\epsilon_r*\\mu_r + k_x**2 + k_y**2)**0.5],\n",
       "[ (-\\epsilon_r*\\mu_r + k_x**2 + k_y**2)**0.5]])"
      ]
     },
     "execution_count": 45,
     "metadata": {},
     "output_type": "execute_result"
    }
   ],
   "source": [
    "Matrix(eigen_values)"
   ]
  },
  {
   "cell_type": "code",
   "execution_count": 48,
   "metadata": {},
   "outputs": [
    {
     "data": {
      "text/latex": [
       "$\\displaystyle \\left[\\begin{matrix}- \\frac{k_{x} k_{y}}{\\epsilon_{r} \\left(- \\epsilon_{r} \\mu_{r} + k_{x}^{2} + k_{y}^{2}\\right)^{0.5}} & \\frac{- \\epsilon_{r} \\mu_{r} + k_{x}^{2}}{\\epsilon_{r} \\left(- \\epsilon_{r} \\mu_{r} + k_{x}^{2} + k_{y}^{2}\\right)^{0.5}} & \\frac{k_{x} k_{y}}{\\epsilon_{r} \\left(- \\epsilon_{r} \\mu_{r} + k_{x}^{2} + k_{y}^{2}\\right)^{0.5}} & \\frac{\\epsilon_{r} \\mu_{r} - k_{x}^{2}}{\\epsilon_{r} \\left(- \\epsilon_{r} \\mu_{r} + k_{x}^{2} + k_{y}^{2}\\right)^{0.5}}\\\\\\frac{\\epsilon_{r} \\mu_{r} - k_{y}^{2}}{\\epsilon_{r} \\left(- \\epsilon_{r} \\mu_{r} + k_{x}^{2} + k_{y}^{2}\\right)^{0.5}} & \\frac{k_{x} k_{y}}{\\epsilon_{r} \\left(- \\epsilon_{r} \\mu_{r} + k_{x}^{2} + k_{y}^{2}\\right)^{0.5}} & \\frac{- \\epsilon_{r} \\mu_{r} + k_{y}^{2}}{\\epsilon_{r} \\left(- \\epsilon_{r} \\mu_{r} + k_{x}^{2} + k_{y}^{2}\\right)^{0.5}} & - \\frac{k_{x} k_{y}}{\\epsilon_{r} \\left(- \\epsilon_{r} \\mu_{r} + k_{x}^{2} + k_{y}^{2}\\right)^{0.5}}\\\\1.0 & 0 & 1.0 & 0\\\\0 & 1.0 & 0 & 1.0\\end{matrix}\\right]$"
      ],
      "text/plain": [
       "Matrix([\n",
       "[                   -k_x*k_y/(\\epsilon_r*(-\\epsilon_r*\\mu_r + k_x**2 + k_y**2)**0.5), (-\\epsilon_r*\\mu_r + k_x**2)/(\\epsilon_r*(-\\epsilon_r*\\mu_r + k_x**2 + k_y**2)**0.5),                      k_x*k_y/(\\epsilon_r*(-\\epsilon_r*\\mu_r + k_x**2 + k_y**2)**0.5), (\\epsilon_r*\\mu_r - k_x**2)/(\\epsilon_r*(-\\epsilon_r*\\mu_r + k_x**2 + k_y**2)**0.5)],\n",
       "[(\\epsilon_r*\\mu_r - k_y**2)/(\\epsilon_r*(-\\epsilon_r*\\mu_r + k_x**2 + k_y**2)**0.5),                      k_x*k_y/(\\epsilon_r*(-\\epsilon_r*\\mu_r + k_x**2 + k_y**2)**0.5), (-\\epsilon_r*\\mu_r + k_y**2)/(\\epsilon_r*(-\\epsilon_r*\\mu_r + k_x**2 + k_y**2)**0.5),                    -k_x*k_y/(\\epsilon_r*(-\\epsilon_r*\\mu_r + k_x**2 + k_y**2)**0.5)],\n",
       "[                                                                                1.0,                                                                                    0,                                                                                  1.0,                                                                                   0],\n",
       "[                                                                                  0,                                                                                  1.0,                                                                                    0,                                                                                 1.0]])"
      ]
     },
     "execution_count": 48,
     "metadata": {},
     "output_type": "execute_result"
    }
   ],
   "source": [
    "Matrix(eigen_vectors).T"
   ]
  },
  {
   "cell_type": "code",
   "execution_count": 59,
   "metadata": {},
   "outputs": [
    {
     "data": {
      "text/latex": [
       "$\\displaystyle \\left[\\begin{matrix}1 & 0 & 1 & 0\\\\0 & 1 & 0 & 1\\\\- \\frac{1.0 k_{x} k_{y}}{\\mu_{r} \\left(- \\epsilon_{r} \\mu_{r} + k_{x}^{2} + k_{y}^{2}\\right)^{0.5}} & \\frac{1.0 \\left(- \\epsilon_{r} \\mu_{r} + k_{x}^{2}\\right)}{\\mu_{r} \\left(- \\epsilon_{r} \\mu_{r} + k_{x}^{2} + k_{y}^{2}\\right)^{0.5}} & \\frac{1.0 k_{x} k_{y}}{\\mu_{r} \\left(- \\epsilon_{r} \\mu_{r} + k_{x}^{2} + k_{y}^{2}\\right)^{0.5}} & \\frac{1.0 \\left(\\epsilon_{r} \\mu_{r} - k_{x}^{2}\\right)}{\\mu_{r} \\left(- \\epsilon_{r} \\mu_{r} + k_{x}^{2} + k_{y}^{2}\\right)^{0.5}}\\\\\\frac{1.0 \\left(\\epsilon_{r} \\mu_{r} - k_{y}^{2}\\right)}{\\mu_{r} \\left(- \\epsilon_{r} \\mu_{r} + k_{x}^{2} + k_{y}^{2}\\right)^{0.5}} & \\frac{1.0 k_{x} k_{y}}{\\mu_{r} \\left(- \\epsilon_{r} \\mu_{r} + k_{x}^{2} + k_{y}^{2}\\right)^{0.5}} & \\frac{1.0 \\left(- \\epsilon_{r} \\mu_{r} + k_{y}^{2}\\right)}{\\mu_{r} \\left(- \\epsilon_{r} \\mu_{r} + k_{x}^{2} + k_{y}^{2}\\right)^{0.5}} & - \\frac{1.0 k_{x} k_{y}}{\\mu_{r} \\left(- \\epsilon_{r} \\mu_{r} + k_{x}^{2} + k_{y}^{2}\\right)^{0.5}}\\end{matrix}\\right]$"
      ],
      "text/plain": [
       "Matrix([\n",
       "[                                                                                 1,                                                                                   0,                                                                                   1,                                                                                  0],\n",
       "[                                                                                 0,                                                                                   1,                                                                                   0,                                                                                  1],\n",
       "[                   -1.0*k_x*k_y/(\\mu_r*(-\\epsilon_r*\\mu_r + k_x**2 + k_y**2)**0.5), 1.0*(-\\epsilon_r*\\mu_r + k_x**2)/(\\mu_r*(-\\epsilon_r*\\mu_r + k_x**2 + k_y**2)**0.5),                      1.0*k_x*k_y/(\\mu_r*(-\\epsilon_r*\\mu_r + k_x**2 + k_y**2)**0.5), 1.0*(\\epsilon_r*\\mu_r - k_x**2)/(\\mu_r*(-\\epsilon_r*\\mu_r + k_x**2 + k_y**2)**0.5)],\n",
       "[1.0*(\\epsilon_r*\\mu_r - k_y**2)/(\\mu_r*(-\\epsilon_r*\\mu_r + k_x**2 + k_y**2)**0.5),                      1.0*k_x*k_y/(\\mu_r*(-\\epsilon_r*\\mu_r + k_x**2 + k_y**2)**0.5), 1.0*(-\\epsilon_r*\\mu_r + k_y**2)/(\\mu_r*(-\\epsilon_r*\\mu_r + k_x**2 + k_y**2)**0.5),                    -1.0*k_x*k_y/(\\mu_r*(-\\epsilon_r*\\mu_r + k_x**2 + k_y**2)**0.5)]])"
      ]
     },
     "execution_count": 59,
     "metadata": {},
     "output_type": "execute_result"
    }
   ],
   "source": [
    "v1 = eigen_vectors[0]*eigen_vectors[1][1]-eigen_vectors[1]*eigen_vectors[0][1]\n",
    "v2 = eigen_vectors[0]*eigen_vectors[1][0]-eigen_vectors[1]*eigen_vectors[0][0]\n",
    "v3 = eigen_vectors[2]*eigen_vectors[3][1]-eigen_vectors[3]*eigen_vectors[2][1]\n",
    "v4 = eigen_vectors[2]*eigen_vectors[3][0]-eigen_vectors[3]*eigen_vectors[2][0]\n",
    "M = simplify(expand(Matrix([\n",
    "    v1/v1[0],\n",
    "    v2/v2[1],\n",
    "    v3/v3[0],\n",
    "    v4/v4[1],\n",
    "]).T))\n",
    "M"
   ]
  },
  {
   "cell_type": "code",
   "execution_count": 83,
   "metadata": {},
   "outputs": [
    {
     "data": {
      "text/latex": [
       "$\\displaystyle \\left[\\begin{matrix}1 & 0 & 1 & 0\\\\0 & 1 & 0 & 1\\\\- \\frac{1.0 k_{x} k_{y}}{\\left(- k_{x}^{2}\\right)^{0.5}} & \\frac{1.0 \\left(k_{x}^{2} - 1\\right)}{\\left(- k_{x}^{2}\\right)^{0.5}} & \\frac{1.0 k_{x} k_{y}}{\\left(- k_{x}^{2}\\right)^{0.5}} & \\frac{1.0 \\cdot \\left(1 - k_{x}^{2}\\right)}{\\left(- k_{x}^{2}\\right)^{0.5}}\\\\\\frac{1.0 \\cdot \\left(1 - k_{y}^{2}\\right)}{\\left(- k_{x}^{2}\\right)^{0.5}} & \\frac{1.0 k_{x} k_{y}}{\\left(- k_{x}^{2}\\right)^{0.5}} & \\frac{1.0 \\left(k_{y}^{2} - 1\\right)}{\\left(- k_{x}^{2}\\right)^{0.5}} & - \\frac{1.0 k_{x} k_{y}}{\\left(- k_{x}^{2}\\right)^{0.5}}\\end{matrix}\\right]$"
      ],
      "text/plain": [
       "Matrix([\n",
       "[                              1,                               0,                               1,                               0],\n",
       "[                              0,                               1,                               0,                               1],\n",
       "[    -1.0*k_x*k_y/(-k_x**2)**0.5, 1.0*(k_x**2 - 1)/(-k_x**2)**0.5,      1.0*k_x*k_y/(-k_x**2)**0.5, 1.0*(1 - k_x**2)/(-k_x**2)**0.5],\n",
       "[1.0*(1 - k_y**2)/(-k_x**2)**0.5,      1.0*k_x*k_y/(-k_x**2)**0.5, 1.0*(k_y**2 - 1)/(-k_x**2)**0.5,     -1.0*k_x*k_y/(-k_x**2)**0.5]])"
      ]
     },
     "execution_count": 83,
     "metadata": {},
     "output_type": "execute_result"
    }
   ],
   "source": [
    "M2 = M.subs(er, '1')\n",
    "M2 = M2.subs(ur, '1')\n",
    "M2 = simplify(expand(M2))\n",
    "M2 = M2.subs(kx**2 + ky**2 - 1, '-k_x**2')\n",
    "simplify(expand(M2))"
   ]
  },
  {
   "cell_type": "code",
   "execution_count": 79,
   "metadata": {},
   "outputs": [
    {
     "name": "stdout",
     "output_type": "stream",
     "text": [
      "1.0*(1 - k_y**2)/(k_x**2 + k_y**2 - 1)**0.5\n"
     ]
    }
   ],
   "source": [
    "print(M2[12])"
   ]
  },
  {
   "cell_type": "code",
   "execution_count": 27,
   "metadata": {},
   "outputs": [
    {
     "data": {
      "text/latex": [
       "$\\displaystyle \\left[\\begin{matrix}- \\frac{k_{x} k_{y} \\left(- \\epsilon_{r} \\mu_{r} + k_{x}^{2} + k_{y}^{2}\\right)^{0.5}}{\\epsilon_{r}^{2} \\mu_{r} - \\epsilon_{r} k_{x}^{2} - \\epsilon_{r} k_{y}^{2}}\\\\\\frac{\\left(\\epsilon_{r} \\mu_{r} - k_{y}^{2}\\right) \\left(- \\epsilon_{r} \\mu_{r} + k_{x}^{2} + k_{y}^{2}\\right)^{0.5}}{\\epsilon_{r}^{2} \\mu_{r} - \\epsilon_{r} k_{x}^{2} - \\epsilon_{r} k_{y}^{2}}\\\\1.0\\\\0\\end{matrix}\\right]$"
      ],
      "text/plain": [
       "Matrix([\n",
       "[                   -k_x*k_y*(-\\epsilon_r*\\mu_r + k_x**2 + k_y**2)**0.5/(\\epsilon_r**2*\\mu_r - \\epsilon_r*k_x**2 - \\epsilon_r*k_y**2)],\n",
       "[(\\epsilon_r*\\mu_r - k_y**2)*(-\\epsilon_r*\\mu_r + k_x**2 + k_y**2)**0.5/(\\epsilon_r**2*\\mu_r - \\epsilon_r*k_x**2 - \\epsilon_r*k_y**2)],\n",
       "[                                                                                                                                 1.0],\n",
       "[                                                                                                                                   0]])"
      ]
     },
     "execution_count": 27,
     "metadata": {},
     "output_type": "execute_result"
    }
   ],
   "source": [
    "basis[0]"
   ]
  },
  {
   "cell_type": "code",
   "execution_count": null,
   "metadata": {},
   "outputs": [
    {
     "data": {
      "text/latex": [
       "$\\displaystyle \\left[\\begin{matrix}- \\frac{i \\epsilon_{r31} k_{x}}{\\epsilon_{r33}} & - \\frac{i \\epsilon_{r32} k_{x}}{\\epsilon_{r33}} & \\frac{k_{x} k_{y}}{\\epsilon_{r33}} & \\frac{\\epsilon_{r33} - k_{x}^{2}}{\\epsilon_{r33}}\\\\- \\frac{i \\epsilon_{r31} k_{y}}{\\epsilon_{r33}} & - \\frac{i \\epsilon_{r32} k_{y}}{\\epsilon_{r33}} & \\frac{- \\epsilon_{r33} + k_{y}^{2}}{\\epsilon_{r33}} & - \\frac{k_{x} k_{y}}{\\epsilon_{r33}}\\\\\\epsilon_{r21} - \\frac{\\epsilon_{r23} \\epsilon_{r31}}{\\epsilon_{r33}} + k_{x} k_{y} & \\epsilon_{r22} - \\frac{\\epsilon_{r23} \\epsilon_{r32}}{\\epsilon_{r33}} - k_{x}^{2} & - \\frac{i \\epsilon_{r23} k_{y}}{\\epsilon_{r33}} & \\frac{i \\epsilon_{r23} k_{x}}{\\epsilon_{r33}}\\\\- \\epsilon_{r11} + \\frac{\\epsilon_{r13} \\epsilon_{r31}}{\\epsilon_{r33}} + k_{y}^{2} & - \\epsilon_{r12} + \\frac{\\epsilon_{r13} \\epsilon_{r32}}{\\epsilon_{r33}} - k_{x} k_{y} & \\frac{i \\epsilon_{r13} k_{y}}{\\epsilon_{r33}} & - \\frac{i \\epsilon_{r13} k_{x}}{\\epsilon_{r33}}\\end{matrix}\\right]$"
      ],
      "text/plain": [
       "Matrix([\n",
       "[                               -I*\\epsilon_r31*k_x/\\epsilon_r33,                                 -I*\\epsilon_r32*k_x/\\epsilon_r33,                  k_x*k_y/\\epsilon_r33, (\\epsilon_r33 - k_x**2)/\\epsilon_r33],\n",
       "[                               -I*\\epsilon_r31*k_y/\\epsilon_r33,                                 -I*\\epsilon_r32*k_y/\\epsilon_r33, (-\\epsilon_r33 + k_y**2)/\\epsilon_r33,                -k_x*k_y/\\epsilon_r33],\n",
       "[\\epsilon_r21 - \\epsilon_r23*\\epsilon_r31/\\epsilon_r33 + k_x*k_y,   \\epsilon_r22 - \\epsilon_r23*\\epsilon_r32/\\epsilon_r33 - k_x**2,      -I*\\epsilon_r23*k_y/\\epsilon_r33,      I*\\epsilon_r23*k_x/\\epsilon_r33],\n",
       "[-\\epsilon_r11 + \\epsilon_r13*\\epsilon_r31/\\epsilon_r33 + k_y**2, -\\epsilon_r12 + \\epsilon_r13*\\epsilon_r32/\\epsilon_r33 - k_x*k_y,       I*\\epsilon_r13*k_y/\\epsilon_r33,     -I*\\epsilon_r13*k_x/\\epsilon_r33]])"
      ]
     },
     "execution_count": 17,
     "metadata": {},
     "output_type": "execute_result"
    }
   ],
   "source": [
    "M = M.subs(ur_single, '1')\n",
    "simplify(expand(M))"
   ]
  }
 ],
 "metadata": {
  "kernelspec": {
   "display_name": "Python 3",
   "language": "python",
   "name": "python3"
  },
  "language_info": {
   "codemirror_mode": {
    "name": "ipython",
    "version": 3
   },
   "file_extension": ".py",
   "mimetype": "text/x-python",
   "name": "python",
   "nbconvert_exporter": "python",
   "pygments_lexer": "ipython3",
   "version": "3.9.10"
  }
 },
 "nbformat": 4,
 "nbformat_minor": 2
}
