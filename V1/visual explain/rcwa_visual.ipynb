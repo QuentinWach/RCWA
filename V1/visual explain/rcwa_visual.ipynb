{
 "cells": [
  {
   "cell_type": "code",
   "execution_count": 162,
   "metadata": {},
   "outputs": [],
   "source": [
    "import sys\n",
    "sys.path.append('../')"
   ]
  },
  {
   "cell_type": "code",
   "execution_count": 163,
   "metadata": {},
   "outputs": [],
   "source": [
    "import tensorflow as tf\n",
    "from RCWA.Domain import Domain\n",
    "from RCWA.Modes import Modes\n",
    "from RCWA.EigenMode import EigenMode\n",
    "from RCWA.ScatterMat import ScatterMatBuilder\n",
    "from RCWA.Device import SlantGrating\n",
    "from RCWA import Utils\n",
    "import numpy as np\n",
    "import matplotlib.pyplot as plt\n",
    "import imageio.v3 as iio\n",
    "import io\n",
    "from PIL import Image\n",
    "from pygifsicle import optimize"
   ]
  },
  {
   "cell_type": "code",
   "execution_count": 164,
   "metadata": {},
   "outputs": [
    {
     "name": "stdout",
     "output_type": "stream",
     "text": [
      "0.9999999999990695\n",
      "Error: 9.304779169383437e-13\n"
     ]
    }
   ],
   "source": [
    "\n",
    "\n",
    "# Reference:\n",
    "# [1] M. A. Golub and A. A. Friesem,\n",
    "# “Effective grating theory for resonance domain surface-relief diffraction gratings,”\n",
    "# J. Opt. Soc. Am. A, vol. 22, no. 6, p. 1115, Jun. 2005, doi: 10.1364/JOSAA.22.001115.\n",
    "\n",
    "period = 0.3276\n",
    "\n",
    "n1 = 1\n",
    "n2 = 2\n",
    "\n",
    "er1 = n1**2\n",
    "er2 = n2**2\n",
    "ur1 = 1\n",
    "ur2 = 1\n",
    "\n",
    "AOI = 10\n",
    "\n",
    "domain = Domain()\n",
    "domain.set_period_centered(period, period)\n",
    "\n",
    "modes = Modes(domain)\n",
    "modes.set_harmonics(10, 0)\n",
    "\n",
    "\n",
    "modes.set_incidence_AOI_POI(\n",
    "    AOI=np.deg2rad(AOI),\n",
    "    POI=np.deg2rad(0))\n",
    "\n",
    "modes.set_wavelength(0.2)\n",
    "\n",
    "# Default Matrix\n",
    "sbuilder = ScatterMatBuilder(modes)\n",
    "ref_mode = EigenMode(modes)\n",
    "trn_mode = EigenMode(modes)\n",
    "ref_mode.from_homogeneous(er1, ur1)\n",
    "trn_mode.from_homogeneous(er2, ur2)\n",
    "Sref = sbuilder.BuildScatterRef(ref_mode)\n",
    "Strn = sbuilder.BuildScatterTrn(trn_mode)\n",
    "\n",
    "Sglobal = Sref\n",
    "\n",
    "# Create Device\n",
    "\n",
    "x, y = domain.get_coordinate(modes.num_modes_x*20, modes.num_modes_y*4)\n",
    "\n",
    "mask = (x>-0.1036) * (x<0.0721)\n",
    "er = (n2**2 - n1**2) * mask + n1**2\n",
    "eigenmode = EigenMode(modes)\n",
    "eigenmode.from_material_er(er)\n",
    "S = sbuilder.BuildScatter(eigenmode, 1)\n",
    "\n",
    "\n",
    "Sglobal = Sglobal @ S\n",
    "Sglobal = Sglobal @ Strn\n",
    "\n",
    "# Incidence\n",
    "delta = (modes.mx == 0)*(modes.my == 0)\n",
    "\n",
    "pol_angle_deg = 90\n",
    "\n",
    "# Set amplitudes for s and p polarizations\n",
    "pol_angle = np.deg2rad(pol_angle_deg)\n",
    "\n",
    "amp_s = tf.sin(pol_angle)  # 90 degree, TE\n",
    "amp_p = tf.cos(pol_angle)  # 0 degree, TM\n",
    "\n",
    "# Calculate the polarization vector based on s and p amplitudes\n",
    "pol = modes.pol_vec_p * amp_p + modes.pol_vec_s * amp_s\n",
    "\n",
    "# Calculate the incident electric field components\n",
    "Einc = tf.cast(\n",
    "    tf.concat([delta*pol[0], delta*pol[1]], 0), tf.dtypes.complex128)[:, None]\n",
    "Einc_z = delta*pol[2]\n",
    "\n",
    "# Calculate the incident intensity\n",
    "Iinc = tf.reduce_sum(np.abs(Einc)**2)+tf.reduce_sum(np.abs(Einc_z)**2)\n",
    "\n",
    "# Calculate the longitudinal wave vector components\n",
    "kz_r = tf.sqrt((n1**2-modes.kx**2-modes.ky**2).astype('complex'))\n",
    "kz_t = tf.sqrt((n2**2-modes.kx**2-modes.ky**2).astype('complex'))\n",
    "\n",
    "# Calculate the electric field components using the scattering matrix\n",
    "Cref = Sglobal.value[0]@Einc\n",
    "Ctrn = Sglobal.value[2]@Einc\n",
    "\n",
    "Eref = tf.reshape(Cref, [2, -1])\n",
    "Etrn = tf.reshape(Ctrn, [2, -1])\n",
    "\n",
    "# Calculate the longitudinal electric field components\n",
    "Eref_z = -(Eref[0]*modes.kx+Eref[1]*modes.ky)/kz_r\n",
    "Etrn_z = -(Etrn[0]*modes.kx+Etrn[1]*modes.ky)/kz_t\n",
    "\n",
    "# Calculate the reflected and transmitted intensities\n",
    "Iref = tf.reduce_sum(tf.abs(Eref)**2, 0)+tf.abs(Eref_z)**2\n",
    "Itrn = tf.reduce_sum(tf.abs(Etrn)**2, 0)+tf.abs(Etrn_z)**2\n",
    "\n",
    "# Calculate the reflection and transmission coefficients\n",
    "R = Iref*tf.math.real(kz_r)/modes.k0z/Iinc\n",
    "T = Itrn*tf.math.real(kz_t)/modes.k0z/Iinc\n",
    "\n",
    "\n",
    "print(np.sum(R+T))\n",
    "print(\"Error:\", 1-np.sum(R+T))\n"
   ]
  },
  {
   "cell_type": "code",
   "execution_count": 165,
   "metadata": {},
   "outputs": [
    {
     "data": {
      "text/plain": [
       "TensorShape([2, 21])"
      ]
     },
     "execution_count": 165,
     "metadata": {},
     "output_type": "execute_result"
    }
   ],
   "source": [
    "Eref.shape"
   ]
  },
  {
   "cell_type": "code",
   "execution_count": 166,
   "metadata": {},
   "outputs": [
    {
     "data": {
      "text/plain": [
       "<tf.Tensor: shape=(42, 1), dtype=complex128, numpy=\n",
       "array([[0.00000000e+00+0.j],\n",
       "       [0.00000000e+00+0.j],\n",
       "       [0.00000000e+00+0.j],\n",
       "       [0.00000000e+00+0.j],\n",
       "       [0.00000000e+00+0.j],\n",
       "       [0.00000000e+00+0.j],\n",
       "       [0.00000000e+00+0.j],\n",
       "       [0.00000000e+00+0.j],\n",
       "       [0.00000000e+00+0.j],\n",
       "       [0.00000000e+00+0.j],\n",
       "       [6.03020831e-17+0.j],\n",
       "       [0.00000000e+00+0.j],\n",
       "       [0.00000000e+00+0.j],\n",
       "       [0.00000000e+00+0.j],\n",
       "       [0.00000000e+00+0.j],\n",
       "       [0.00000000e+00+0.j],\n",
       "       [0.00000000e+00+0.j],\n",
       "       [0.00000000e+00+0.j],\n",
       "       [0.00000000e+00+0.j],\n",
       "       [0.00000000e+00+0.j],\n",
       "       [0.00000000e+00+0.j],\n",
       "       [0.00000000e+00+0.j],\n",
       "       [0.00000000e+00+0.j],\n",
       "       [0.00000000e+00+0.j],\n",
       "       [0.00000000e+00+0.j],\n",
       "       [0.00000000e+00+0.j],\n",
       "       [0.00000000e+00+0.j],\n",
       "       [0.00000000e+00+0.j],\n",
       "       [0.00000000e+00+0.j],\n",
       "       [0.00000000e+00+0.j],\n",
       "       [0.00000000e+00+0.j],\n",
       "       [1.00000000e+00+0.j],\n",
       "       [0.00000000e+00+0.j],\n",
       "       [0.00000000e+00+0.j],\n",
       "       [0.00000000e+00+0.j],\n",
       "       [0.00000000e+00+0.j],\n",
       "       [0.00000000e+00+0.j],\n",
       "       [0.00000000e+00+0.j],\n",
       "       [0.00000000e+00+0.j],\n",
       "       [0.00000000e+00+0.j],\n",
       "       [0.00000000e+00+0.j],\n",
       "       [0.00000000e+00+0.j]])>"
      ]
     },
     "execution_count": 166,
     "metadata": {},
     "output_type": "execute_result"
    }
   ],
   "source": [
    "Einc"
   ]
  },
  {
   "cell_type": "code",
   "execution_count": 167,
   "metadata": {},
   "outputs": [
    {
     "data": {
      "text/plain": [
       "array([0.+0.j, 0.+0.j, 0.+0.j, 0.+0.j, 0.+0.j, 0.+0.j, 0.+0.j, 0.+0.j,\n",
       "       0.+0.j, 0.+0.j, 1.+0.j, 0.+0.j, 0.+0.j, 0.+0.j, 0.+0.j, 0.+0.j,\n",
       "       0.+0.j, 0.+0.j, 0.+0.j, 0.+0.j, 0.+0.j])"
      ]
     },
     "execution_count": 167,
     "metadata": {},
     "output_type": "execute_result"
    }
   ],
   "source": [
    "np.reshape(Einc, [2, -1])[1]"
   ]
  },
  {
   "cell_type": "code",
   "execution_count": 168,
   "metadata": {},
   "outputs": [
    {
     "data": {
      "text/plain": [
       "31.41592653589793"
      ]
     },
     "execution_count": 168,
     "metadata": {},
     "output_type": "execute_result"
    }
   ],
   "source": [
    "modes.k0"
   ]
  },
  {
   "cell_type": "code",
   "execution_count": 173,
   "metadata": {},
   "outputs": [
    {
     "name": "stdout",
     "output_type": "stream",
     "text": [
      "(1, 221)\n"
     ]
    }
   ],
   "source": [
    "C = np.reshape(Einc+Cref, [2, -1])[1]\n",
    "C = np.reshape(C, [modes.num_modes_y, modes.num_modes_x])\n",
    "C = np.pad(C, [[0], [100]])\n",
    "x, y = domain.get_coordinate(C.shape[1], C.shape[0])\n",
    "E = np.fft.ifft2(np.fft.ifftshift(C)) * np.exp(1j * modes.k0 * modes.k0x * x)\n",
    "print(E.shape)\n",
    "N = 20\n",
    "\n",
    "for i in range(N):\n",
    "    fig = plt.figure(figsize=(5, 1), frameon=False)\n",
    "    plt.clf()\n",
    "    ax = fig.add_axes([0, 0, 1, 1])\n",
    "    ax.axis('off')\n",
    "    a = i/N*2*np.pi\n",
    "    ax.plot(np.real(E[0]*np.exp(1j*a)), c='#FF9800')\n",
    "    plt.ylim([-0.01, 0.01])\n",
    "    plt.savefig(f\"./output1/{i:04d}.png\", format='png')\n",
    "    plt.close()\n",
    "\n"
   ]
  },
  {
   "cell_type": "code",
   "execution_count": 170,
   "metadata": {},
   "outputs": [
    {
     "data": {
      "text/plain": [
       "(10, 480, 640, 4)"
      ]
     },
     "execution_count": 170,
     "metadata": {},
     "output_type": "execute_result"
    }
   ],
   "source": [
    "np.array(frames).shape"
   ]
  },
  {
   "cell_type": "code",
   "execution_count": 174,
   "metadata": {},
   "outputs": [
    {
     "name": "stdout",
     "output_type": "stream",
     "text": [
      "(1, 221)\n"
     ]
    }
   ],
   "source": [
    "C = np.reshape(Etrn, [2, -1])[1]\n",
    "C = np.reshape(C, [modes.num_modes_y, modes.num_modes_x])\n",
    "C = np.pad(C, [[0], [100]])\n",
    "x, y = domain.get_coordinate(C.shape[1], C.shape[0])\n",
    "E = np.fft.ifft2(np.fft.ifftshift(C)) * np.exp(1j * modes.k0 * modes.k0x * x)\n",
    "print(E.shape)\n",
    "\n",
    "N = 20\n",
    "\n",
    "for i in range(N):\n",
    "    fig = plt.figure(figsize=(5, 1), frameon=False)\n",
    "    plt.clf()\n",
    "    ax = fig.add_axes([0, 0, 1, 1])\n",
    "    ax.axis('off')\n",
    "    a = i/N*2*np.pi\n",
    "    ax.plot(np.real(E[0]*np.exp(1j*a)), c='#FF9800')\n",
    "    plt.ylim([-0.01, 0.01])\n",
    "    plt.savefig(f\"./output2/{i:04d}.png\", format='png')\n",
    "    plt.close()"
   ]
  },
  {
   "cell_type": "code",
   "execution_count": 172,
   "metadata": {},
   "outputs": [
    {
     "data": {
      "text/plain": [
       "<tf.Tensor: shape=(21,), dtype=float64, numpy=\n",
       "array([0.        , 0.        , 0.        , 0.        , 0.        ,\n",
       "       0.        , 0.        , 0.06580447, 0.06864765, 0.25706559,\n",
       "       0.16495806, 0.34898613, 0.01141329, 0.        , 0.        ,\n",
       "       0.        , 0.        , 0.        , 0.        , 0.        ,\n",
       "       0.        ])>"
      ]
     },
     "execution_count": 172,
     "metadata": {},
     "output_type": "execute_result"
    }
   ],
   "source": [
    "T"
   ]
  }
 ],
 "metadata": {
  "kernelspec": {
   "display_name": "Python 3",
   "language": "python",
   "name": "python3"
  },
  "language_info": {
   "codemirror_mode": {
    "name": "ipython",
    "version": 3
   },
   "file_extension": ".py",
   "mimetype": "text/x-python",
   "name": "python",
   "nbconvert_exporter": "python",
   "pygments_lexer": "ipython3",
   "version": "3.10.6"
  },
  "orig_nbformat": 4
 },
 "nbformat": 4,
 "nbformat_minor": 2
}
